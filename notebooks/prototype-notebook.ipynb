{
 "cells": [
  {
   "cell_type": "markdown",
   "metadata": {},
   "source": [
    "# Rocket Launch Success Prediction Model (RLS)\n",
    "\n",
    "Rocket launches have increased inspiration behind this project stems from my personal interests in Space and Astronomy. "
   ]
  }
 ],
 "metadata": {
  "language_info": {
   "name": "python"
  }
 },
 "nbformat": 4,
 "nbformat_minor": 2
}
